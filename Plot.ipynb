{
 "cells": [
  {
   "cell_type": "code",
   "execution_count": 1,
   "metadata": {},
   "outputs": [],
   "source": [
    "import torch\n",
    "import torch.nn as nn\n",
    "import torch.optim as optim\n",
    "from torch.utils.data import DataLoader, Dataset, TensorDataset, Subset\n",
    "import os\n",
    "import numpy as np\n",
    "import re\n",
    "import time\n",
    "from tqdm import tqdm\n",
    "\n",
    "device = torch.device(\"cuda\" if torch.cuda.is_available() else \"cpu\")\n",
    "Tc = 2.269\n",
    "\n",
    "# 01. Prepare the dataset\n",
    "class IsingDataset(Dataset):\n",
    "    def __init__(self, temp, L = 30):\n",
    "        self.L = L\n",
    "        BASE_DIR = \"Data_configurations\"\n",
    "        \n",
    "        # Prepare the data list\n",
    "        data_list = []\n",
    "        \n",
    "        # Read the data\n",
    "        \n",
    "        file = os.path.join(BASE_DIR, f\"{L}\", f\"L{L}_T{temp:.4f}.npy\")\n",
    "            \n",
    "        # Load file\n",
    "        data_np = np.load(file)\n",
    "        \n",
    "        for ele in data_np[:100]:\n",
    "            ele_flatten = ele.flatten()\n",
    "            data_list.append(ele_flatten)\n",
    "        \n",
    "        # Prepare the data and label tensor\n",
    "        data_list = np.array(data_list)\n",
    "        self.data = torch.tensor(data_list, dtype=torch.float32)\n",
    "        if temp < Tc:\n",
    "            self.label = torch.zeros(len(data_list), dtype=torch.long)\n",
    "        else:\n",
    "            self.label = torch.ones(len(data_list), dtype=torch.long)\n",
    "        \n",
    "    def __len__(self):\n",
    "        return len(self.label)\n",
    "    \n",
    "    def __getitem__(self, idx):\n",
    "        return self.data[idx], self.label[idx]\n",
    "    \n",
    "    def __getall__(self):\n",
    "        return self.data, self.label\n",
    "    \n",
    "# 02. Define the model\n",
    "class FNN(nn.Module):\n",
    "    def __init__(self, L = 30, hidden_dim = 100, output_dim=2):\n",
    "        input_dim = L * L\n",
    "        super(FNN, self).__init__()\n",
    "        self.fc = nn.Sequential(\n",
    "            nn.Linear(input_dim, hidden_dim),\n",
    "            nn.Sigmoid(),\n",
    "            nn.Linear(hidden_dim, output_dim),\n",
    "            nn.Softmax(dim = 1)\n",
    "        )\n",
    "        \n",
    "    def forward(self, x):\n",
    "        return self.fc(x)"
   ]
  },
  {
   "cell_type": "code",
   "execution_count": 2,
   "metadata": {},
   "outputs": [
    {
     "data": {
      "text/plain": [
       "FNN(\n",
       "  (fc): Sequential(\n",
       "    (0): Linear(in_features=900, out_features=100, bias=True)\n",
       "    (1): Sigmoid()\n",
       "    (2): Linear(in_features=100, out_features=2, bias=True)\n",
       "    (3): Softmax(dim=1)\n",
       "  )\n",
       ")"
      ]
     },
     "execution_count": 2,
     "metadata": {},
     "output_type": "execute_result"
    }
   ],
   "source": [
    "# Load the model\n",
    "L = 30\n",
    "model_path = f\"model_regression_demo/model_{L}.pth\"\n",
    "model = FNN(L).to(device)\n",
    "model.load_state_dict(torch.load(model_path, map_location=device))\n",
    "model.eval()"
   ]
  },
  {
   "cell_type": "code",
   "execution_count": 3,
   "metadata": {},
   "outputs": [
    {
     "name": "stderr",
     "output_type": "stream",
     "text": [
      "100%|██████████| 20/20 [00:00<00:00, 227.73it/s]"
     ]
    },
    {
     "name": "stdout",
     "output_type": "stream",
     "text": [
      "Accuracy: 0.9775\n"
     ]
    },
    {
     "name": "stderr",
     "output_type": "stream",
     "text": [
      "\n"
     ]
    }
   ],
   "source": [
    "# Prepare the data\n",
    "T_list = np.linspace(1.0, 3.5, 1000)\n",
    "T_list = T_list[::50]\n",
    "prob_list = []\n",
    "std_list = []\n",
    "\n",
    "total = 0\n",
    "correct = 0\n",
    "\n",
    "for T in tqdm(T_list):\n",
    "    dataset_T = IsingDataset(round(T,4), L)\n",
    "    data, label = dataset_T.__getall__()\n",
    "    data = data.to(device)\n",
    "    label = label.to(device)\n",
    "    \n",
    "    # Predict the data\n",
    "    with torch.no_grad():\n",
    "        output = model(data)\n",
    "        softmax_prob = output[:, 1].cpu().numpy()\n",
    "        \n",
    "        \n",
    "        _, predicted = torch.max(output, 1)\n",
    "        total += label.size(0)\n",
    "        correct += (predicted == label).sum().item()\n",
    "        \n",
    "        softmax_mean = np.mean(softmax_prob)\n",
    "        softmax_std = np.std(softmax_prob)\n",
    "        prob_list.append(softmax_mean)\n",
    "        std_list.append(softmax_std)\n",
    "        \n",
    "print(\"Accuracy:\", correct / total)\n",
    "        "
   ]
  },
  {
   "cell_type": "code",
   "execution_count": 4,
   "metadata": {},
   "outputs": [
    {
     "data": {
      "image/png": "[encoded data removed]",
      "text/plain": [
       "<Figure size 500x300 with 1 Axes>"
      ]
     },
     "metadata": {},
     "output_type": "display_data"
    },
    {
     "name": "stdout",
     "output_type": "stream",
     "text": [
      "Fitted Tc: 2.325\n"
     ]
    }
   ],
   "source": [
    "import numpy as np\n",
    "import matplotlib.pyplot as plt\n",
    "from scipy.optimize import minimize\n",
    "\n",
    "import pandas as pd\n",
    "import matplotlib.pyplot as plt\n",
    "\n",
    "# 定义阶跃函数\n",
    "def step_function(T, Tc):\n",
    "    return np.where(T >= Tc, 1, 0)\n",
    "\n",
    "# 定义误差函数\n",
    "def loss(Tc, T, y):\n",
    "    y_pred = step_function(T, Tc)\n",
    "    return np.sum((y - y_pred) ** 2)\n",
    "\n",
    "# 初始猜测的 Tc\n",
    "Tc_initial = 3\n",
    "\n",
    "# 使用最小化函数拟合 Tc\n",
    "result = minimize(loss, Tc_initial, args=(T_list, prob_list), method='Nelder-Mead')\n",
    "Tc_fitted = result.x[0]\n",
    "\n",
    "# 可视化结果\n",
    "plt.figure(figsize=(5, 3))\n",
    "plt.scatter(T_list, prob_list, color='#3f7fb1', alpha=0.6)\n",
    "plt.scatter(T_list, [1 - x for x in prob_list], color='#b53289', alpha=0.6)\n",
    "# plt.plot(T_list, step_function(T_list, Tc_fitted), label=f'Fitted Line (Tc={Tc_fitted:.3f})', color='red')\n",
    "plt.axvline(Tc_fitted, color='#e64532', linestyle='--', label=f'$T_c$={Tc_fitted:.3f}')\n",
    "# Define the location of the legend\n",
    "plt.legend(loc='upper left')\n",
    "plt.xlabel(r'Temperature $T$')\n",
    "plt.ylabel('Softmax Output Probability')\n",
    "plt.title('Neural Networks for Phase Classification')\n",
    "plt.savefig(f\"fig_demo/classification_{L}.png\", dpi=600, bbox_inches='tight')\n",
    "plt.show()\n",
    "\n",
    "# 输出拟合结果\n",
    "print(f\"Fitted Tc: {Tc_fitted:.3f}\")"
   ]
  }
 ],
 "metadata": {
  "kernelspec": {
   "display_name": "pytorch_cpu",
   "language": "python",
   "name": "python3"
  },
  "language_info": {
   "codemirror_mode": {
    "name": "ipython",
    "version": 3
   },
   "file_extension": ".py",
   "mimetype": "text/x-python",
   "name": "python",
   "nbconvert_exporter": "python",
   "pygments_lexer": "ipython3",
   "version": "3.10.14"
  }
 },
 "nbformat": 4,
 "nbformat_minor": 2
}
